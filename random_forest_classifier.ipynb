{
 "cells": [
  {
   "cell_type": "code",
   "execution_count": null,
   "id": "5ad7c2e2",
   "metadata": {},
   "outputs": [],
   "source": [
    "#drop target variables to create X and turn X features categorical \n",
    "#split the data into train and test set\n",
    "#import the random forest classifier with parameters \"no of estimators =10\", \"max_features = 'auto'\" and \"random_state = 101\"\n",
    "#fit the data and make predictions\n",
    "#import the confusion matrix and classification report"
   ]
  }
 ],
 "metadata": {
  "kernelspec": {
   "display_name": "Python 3 (ipykernel)",
   "language": "python",
   "name": "python3"
  },
  "language_info": {
   "codemirror_mode": {
    "name": "ipython",
    "version": 3
   },
   "file_extension": ".py",
   "mimetype": "text/x-python",
   "name": "python",
   "nbconvert_exporter": "python",
   "pygments_lexer": "ipython3",
   "version": "3.11.4"
  }
 },
 "nbformat": 4,
 "nbformat_minor": 5
}
